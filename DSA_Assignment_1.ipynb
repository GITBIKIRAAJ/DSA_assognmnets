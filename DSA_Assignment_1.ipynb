{
 "cells": [
  {
   "cell_type": "code",
   "execution_count": 3,
   "id": "6f719cdf",
   "metadata": {},
   "outputs": [
    {
     "name": "stdout",
     "output_type": "stream",
     "text": [
      "[0, 1]\n"
     ]
    }
   ],
   "source": [
    "# Given an array of integers nums and an integer target, return indices of the two numbers such that they add up to target.\n",
    "\n",
    "def two_num_Sum(nums, target):\n",
    "    # Create a dictionary to store the results of each number and its index\n",
    "    my_dict = {}\n",
    "\n",
    "    # Iterate through the array\n",
    "    for i, num in enumerate(nums):\n",
    "        # Calculate the results of the current number\n",
    "        results = target - num\n",
    "\n",
    "        # Check if the results exists in the dictionary\n",
    "        if results in my_dict:\n",
    "            # Return the indices of the two numbers\n",
    "            return [my_dict[results], i]\n",
    "\n",
    "        # If the results does not exist, add the current number and its index to the dictionary\n",
    "        my_dict[num] = i\n",
    "\n",
    "    # If no solution is found, return an empty list\n",
    "    return []\n",
    "\n",
    "# Example usage\n",
    "nums = [2, 7, 11, 15]\n",
    "target = 9\n",
    "Final_result = two_num_Sum(nums, target)\n",
    "print(Final_result)\n"
   ]
  },
  {
   "cell_type": "markdown",
   "id": "e3dd69b6",
   "metadata": {},
   "source": [
    "### By using Hash Map has a time complexity of O(n) because the dictionary operations (lookup and insertion) are done in constant time. This is more efficient compared to a brute-force approach, which would have a time complexity of O(n^2)"
   ]
  },
  {
   "cell_type": "markdown",
   "id": "62ccb2a0",
   "metadata": {},
   "source": [
    "### Q2. Given an integer array nums and an integer val, remove all occurrences of val in nums in-place. The order of the elements may be changed. Then return the number of elements in nums which are not equal to val.\n",
    "\n",
    "Consider the number of elements in nums which are not equal to val be k, to get accepted, you need to do the following things:\n",
    "\n",
    "- Change the array nums such that the first k elements of nums contain the elements which are not equal to val. The remaining elements of nums are not important as well as the size of nums.\n",
    "- Return k."
   ]
  },
  {
   "cell_type": "code",
   "execution_count": 5,
   "id": "67cc7818",
   "metadata": {},
   "outputs": [
    {
     "name": "stdout",
     "output_type": "stream",
     "text": [
      "Count: 2\n",
      "Modified nums: [2, 2]\n"
     ]
    }
   ],
   "source": [
    "# To remove all occurrences of a given value val from an integer array nums and return the count of elements that are not\n",
    "# equal to val, you can utilize the Two-Pointers technique. Here's the implementation using a DSA approach:\n",
    "\n",
    "def removeElement(nums, val):\n",
    "    # Initialize two pointers\n",
    "    left = 0\n",
    "    right = 0\n",
    "\n",
    "    # Iterate through the array\n",
    "    while right < len(nums):\n",
    "        # If the current element is not equal to val\n",
    "        if nums[right] != val:\n",
    "            # Copy the current element to the left pointer position\n",
    "            nums[left] = nums[right]\n",
    "            # Move both pointers forward\n",
    "            left += 1\n",
    "\n",
    "        # Move the right pointer forward\n",
    "        right += 1\n",
    "\n",
    "    # Return the count of elements that are not equal to val\n",
    "    return left\n",
    "\n",
    "# Example usage\n",
    "nums = [3, 2, 2, 3]\n",
    "val = 3\n",
    "k = removeElement(nums, val)\n",
    "print(\"Count:\", k)\n",
    "print(\"Modified nums:\", nums[:k])\n"
   ]
  },
  {
   "cell_type": "markdown",
   "id": "6bff2829",
   "metadata": {},
   "source": [
    " The modified nums array contains only the elements 2 since the occurrences of 3 have been removed.\n",
    " The time complexity of this approach is **`O(n)`**, where n is the length of the nums array, as we iterate through the array once."
   ]
  },
  {
   "cell_type": "markdown",
   "id": "34250279",
   "metadata": {},
   "source": [
    "### Q3. Given a sorted array of distinct integers and a target value, return the index if the target is found. If not, return the index where it would be if it were inserted in order.\n",
    "\n",
    "You must write an algorithm with O(log n) runtime complexity.\n",
    "\n",
    "**Example 1:**\n",
    "Input: nums = [1,3,5,6], target = 5\n"
   ]
  },
  {
   "cell_type": "markdown",
   "id": "ad616469",
   "metadata": {},
   "source": [
    "#### Anaswer: \n",
    "To find the index of a target value in a sorted array or the index where it should be inserted if it's not found, we can use the Binary Search algorithm. This algorithm has an O(log n) runtime complexity. Here's the implementation"
   ]
  },
  {
   "cell_type": "code",
   "execution_count": 8,
   "id": "92323ab3",
   "metadata": {
    "scrolled": true
   },
   "outputs": [
    {
     "name": "stdout",
     "output_type": "stream",
     "text": [
      "Index: 2\n"
     ]
    }
   ],
   "source": [
    "def searchoption(nums, target):\n",
    "    left = 0\n",
    "    right = len(nums) - 1\n",
    "\n",
    "    while left <= right:\n",
    "        mid = left + (right - left) // 2\n",
    "\n",
    "        if nums[mid] == target:\n",
    "            return mid\n",
    "        elif nums[mid] < target:\n",
    "            left = mid + 1\n",
    "        else:\n",
    "            right = mid - 1\n",
    "\n",
    "    return left\n",
    "\n",
    "# Example usage\n",
    "nums = [1, 3, 5, 6]\n",
    "target = 5\n",
    "index = searchoption(nums, target)\n",
    "print(\"Index:\", index)\n"
   ]
  },
  {
   "cell_type": "markdown",
   "id": "1c78896f",
   "metadata": {},
   "source": [
    "### Q4.\n",
    "You are given a large integer represented as an integer array digits, where each digits[i] is the ith digit of the integer. The digits are ordered from most significant to least significant in left-to-right order. The large integer does not contain any leading 0's.\n",
    "\n",
    "Increment the large integer by one and return the resulting array of digits.\n",
    "\n",
    "**Example 1:**\n",
    "Input: digits = [1,2,3]\n",
    "Output: [1,2,4]"
   ]
  },
  {
   "cell_type": "markdown",
   "id": "42f3ebbe",
   "metadata": {},
   "source": [
    "### Answer: \n",
    "To increment a large integer represented as an integer array digits by one, we can use a DSA technique called Array Addition. Here's the use:"
   ]
  },
  {
   "cell_type": "code",
   "execution_count": 9,
   "id": "ee3fb5d1",
   "metadata": {},
   "outputs": [
    {
     "name": "stdout",
     "output_type": "stream",
     "text": [
      "[1, 2, 4]\n"
     ]
    }
   ],
   "source": [
    "def increment_one(digits):\n",
    "    n = len(digits)\n",
    "\n",
    "    # Iterate through the digits in reverse order\n",
    "    for i in range(n - 1, -1, -1):\n",
    "        # Increment the current digit by 1\n",
    "        digits[i] += 1\n",
    "\n",
    "        # Check if there is a carry\n",
    "        if digits[i] < 10:\n",
    "            return digits\n",
    "\n",
    "        # If there is a carry, set the current digit to 0\n",
    "        digits[i] = 0\n",
    "\n",
    "    # If all digits have carried over, insert 1 at the beginning\n",
    "    digits.insert(0, 1)\n",
    "\n",
    "    return digits\n",
    "\n",
    "# Example usage\n",
    "digits = [1, 2, 3]\n",
    "result = increment_one(digits)\n",
    "print(result)\n"
   ]
  },
  {
   "cell_type": "markdown",
   "id": "579cc882",
   "metadata": {},
   "source": [
    "### Q.5\n",
    "You are given two integer arrays nums1 and nums2, sorted in non-decreasing order, and two integers m and n, representing the number of elements in nums1 and nums2 respectively.\n",
    "\n",
    "Merge nums1 and nums2 into a single array sorted in non-decreasing order.\n",
    "\n",
    "The final sorted array should not be returned by the function, but instead be stored inside the array nums1. To accommodate this, nums1 has a length of m + n, where the first m elements denote the elements that should be merged, and the last n elements are set to 0 and should be ignored. nums2 has a length of n.\n",
    "\n",
    "**Example 1:**\n",
    "Input: nums1 = [1,2,3,0,0,0], m = 3, nums2 = [2,5,6], n = 3\n",
    "Output: [1,2,2,3,5,6]\n"
   ]
  },
  {
   "cell_type": "code",
   "execution_count": 10,
   "id": "fe88976a",
   "metadata": {},
   "outputs": [
    {
     "name": "stdout",
     "output_type": "stream",
     "text": [
      "[1, 2, 2, 3, 5, 6]\n"
     ]
    }
   ],
   "source": [
    "def merge(nums1, m, nums2, n):\n",
    "    p1 = m - 1  # Pointer for nums1\n",
    "    p2 = n - 1  # Pointer for nums2\n",
    "    p = m + n - 1  # Pointer for merged nums1\n",
    "\n",
    "    # Merge the arrays from the end\n",
    "    while p1 >= 0 and p2 >= 0:\n",
    "        if nums1[p1] <= nums2[p2]:\n",
    "            nums1[p] = nums2[p2]\n",
    "            p2 -= 1\n",
    "        else:\n",
    "            nums1[p] = nums1[p1]\n",
    "            p1 -= 1\n",
    "        p -= 1\n",
    "\n",
    "    # Copy any remaining elements from nums2 to nums1\n",
    "    while p2 >= 0:\n",
    "        nums1[p] = nums2[p2]\n",
    "        p2 -= 1\n",
    "        p -= 1\n",
    "\n",
    "    # nums1 is now merged and sorted in non-decreasing order\n",
    "    return nums1\n",
    "\n",
    "# Example usage\n",
    "nums1 = [1, 2, 3, 0, 0, 0]\n",
    "m = 3\n",
    "nums2 = [2, 5, 6]\n",
    "n = 3\n",
    "result = merge(nums1, m, nums2, n)\n",
    "print(result)\n"
   ]
  },
  {
   "cell_type": "markdown",
   "id": "c71b1f6c",
   "metadata": {},
   "source": [
    "#### The time complexity of this approach is *`O(m + n)`*, where m is the length of nums1 and n is the length of nums2"
   ]
  },
  {
   "cell_type": "markdown",
   "id": "1de166d8",
   "metadata": {},
   "source": [
    "### Q6. \n",
    "Given an integer array nums, return true if any value appears at least twice in the array, and return false if every element is distinct.\n",
    "\n",
    "**Example 1:**\n",
    "Input: nums = [1,2,3,1]\n",
    "\n",
    "Output: true"
   ]
  },
  {
   "cell_type": "markdown",
   "id": "5f59b191",
   "metadata": {},
   "source": [
    "#### To determine if any value appears at least twice in an integer array nums, we can use a DSA technique called Hash Set. Here's the implementation:"
   ]
  },
  {
   "cell_type": "code",
   "execution_count": 11,
   "id": "93ff9694",
   "metadata": {},
   "outputs": [
    {
     "name": "stdout",
     "output_type": "stream",
     "text": [
      "True\n"
     ]
    }
   ],
   "source": [
    "def Duplicated(nums):\n",
    "    num_set = set()\n",
    "\n",
    "    for num in nums:\n",
    "        if num in num_set:\n",
    "            return True\n",
    "        num_set.add(num)\n",
    "\n",
    "    return False\n",
    "\n",
    "# Example usage\n",
    "nums = [1, 2, 3, 1]\n",
    "result = Duplicated(nums)\n",
    "print(result)\n"
   ]
  },
  {
   "cell_type": "markdown",
   "id": "8dd485c3",
   "metadata": {},
   "source": [
    "### The time complexity of this approach is `O(n)`, where n is the length of the nums array, since we iterate through the array once and perform constant-time operations for set lookups and insertions."
   ]
  },
  {
   "cell_type": "markdown",
   "id": "8499cf58",
   "metadata": {},
   "source": [
    "### Q7. Given an integer array nums, move all 0's to the end of it while maintaining the relative order of the nonzero elements.\n",
    "\n",
    "Note that you must do this in-place without making a copy of the array.\n",
    "\n",
    "**Example 1:**\n",
    "Input: nums = [0,1,0,3,12]\n",
    "Output: [1,3,12,0,0]\n"
   ]
  },
  {
   "cell_type": "code",
   "execution_count": 12,
   "id": "bc47470a",
   "metadata": {},
   "outputs": [
    {
     "name": "stdout",
     "output_type": "stream",
     "text": [
      "[1, 3, 12, 0, 0]\n"
     ]
    }
   ],
   "source": [
    "def moveZeroes(nums):\n",
    "    n = len(nums)\n",
    "    left = 0  # Pointer for non-zero elements\n",
    "\n",
    "    # Iterate through the array\n",
    "    for i in range(n):\n",
    "        if nums[i] != 0:\n",
    "            # Swap the current element with the left pointer element\n",
    "            nums[left], nums[i] = nums[i], nums[left]\n",
    "            left += 1\n",
    "\n",
    "    # Zeros are now moved to the end while maintaining the relative order\n",
    "    return nums\n",
    "\n",
    "# Example usage\n",
    "nums = [0, 1, 0, 3, 12]\n",
    "result = moveZeroes(nums)\n",
    "print(result)\n"
   ]
  },
  {
   "cell_type": "markdown",
   "id": "85a05c04",
   "metadata": {},
   "source": [
    "In this problem, the algorithm uses `two pointers`: left for non-zero elements and i to iterate through the array. When a non-zero element is encountered, it is swapped with the element at the left pointer, effectively moving all non-zero elements to the left side of the array. Zeros are automatically shifted to the end since the left pointer only moves forward when encountering a non-zero element. The time complexity of this approach is **`O(n)`**, where n is the length of the nums array, as we iterate through the array once."
   ]
  },
  {
   "cell_type": "markdown",
   "id": "bfe43e5b",
   "metadata": {},
   "source": [
    "### Q8. You have a set of integers s, which originally contains all the numbers from 1 to n. Unfortunately, due to some error, one of the numbers in s got duplicated to another number in the set, which results in repetition of one number and loss of another number.\n",
    "\n",
    "You are given an integer array nums representing the data status of this set after the error.\n",
    "\n",
    "Find the number that occurs twice and the number that is missing and return them in the form of an array.\n",
    "\n",
    "**Example 1:**\n",
    "Input: nums = [1,2,2,4]\n",
    "Output: [2,3]"
   ]
  },
  {
   "cell_type": "code",
   "execution_count": 13,
   "id": "6c59c97c",
   "metadata": {},
   "outputs": [
    {
     "name": "stdout",
     "output_type": "stream",
     "text": [
      "[2, 3]\n"
     ]
    }
   ],
   "source": [
    "def findErrorNums(nums):\n",
    "    n = len(nums)\n",
    "    nums_set = set()\n",
    "    duplicate = -1\n",
    "    missing = -1\n",
    "\n",
    "    # Find the duplicate number\n",
    "    for num in nums:\n",
    "        if num in nums_set:\n",
    "            duplicate = num\n",
    "        else:\n",
    "            nums_set.add(num)\n",
    "\n",
    "    # Find the missing number\n",
    "    for i in range(1, n + 1):\n",
    "        if i not in nums_set:\n",
    "            missing = i\n",
    "            break\n",
    "\n",
    "    return [duplicate, missing]\n",
    "\n",
    "# Example usage\n",
    "nums = [1, 2, 2, 4]\n",
    "result = findErrorNums(nums)\n",
    "print(result)\n"
   ]
  },
  {
   "cell_type": "markdown",
   "id": "86c67338",
   "metadata": {},
   "source": [
    "I have used in this algorithm a set (nums_set) to keep track of unique numbers encountered in the nums array. It iterates through the array to find the duplicate number by checking if a number is already present in the set. \n",
    "\n",
    "The missing number is found by iterating from 1 to n and checking if each number is present in the set. The time complexity of this approach is **`O(n)`**, where n is the length of the nums array, since we iterate through the array twice and perform constant-time operations for set lookups and insertions."
   ]
  },
  {
   "cell_type": "code",
   "execution_count": null,
   "id": "070d1100",
   "metadata": {},
   "outputs": [],
   "source": []
  }
 ],
 "metadata": {
  "kernelspec": {
   "display_name": "Python 3 (ipykernel)",
   "language": "python",
   "name": "python3"
  },
  "language_info": {
   "codemirror_mode": {
    "name": "ipython",
    "version": 3
   },
   "file_extension": ".py",
   "mimetype": "text/x-python",
   "name": "python",
   "nbconvert_exporter": "python",
   "pygments_lexer": "ipython3",
   "version": "3.9.12"
  }
 },
 "nbformat": 4,
 "nbformat_minor": 5
}
